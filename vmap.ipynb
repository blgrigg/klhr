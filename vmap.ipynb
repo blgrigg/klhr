{
 "cells": [
  {
   "cell_type": "code",
   "execution_count": 1,
   "id": "b03c26c9-0f27-485f-9af0-d2f2f7e7a14d",
   "metadata": {},
   "outputs": [],
   "source": [
    "import jax\n",
    "from jax.flatten_util import ravel_pytree\n",
    "import jax.numpy as jnp\n",
    "import numpy as np\n",
    "from numpy.polynomial.hermite import hermgauss\n",
    "import numpyro\n",
    "import numpyro.distributions as dist\n",
    "from numpyro.infer.util import initialize_model\n",
    "\n",
    "from pathlib import Path\n",
    "from scipy.stats import norm\n",
    "from scipy.optimize import minimize\n",
    "\n",
    "from bsmodel import BSModel\n",
    "import bridgestan as bs\n",
    "from klhr import KLHR\n",
    "from klhr_sinh import KLHRSINH\n",
    "\n",
    "jax.config.update('jax_enable_x64', True)"
   ]
  },
  {
   "cell_type": "code",
   "execution_count": 2,
   "id": "d0e2cbab-d5af-4dc0-9fc2-0fb4ac6c67ca",
   "metadata": {},
   "outputs": [],
   "source": [
    "#bs.set_bridgestan_path(Path.home() / \"bridgestan\")"
   ]
  },
  {
   "cell_type": "code",
   "execution_count": 3,
   "id": "addb80e0-9a45-47f5-a183-f69bd3f921b9",
   "metadata": {},
   "outputs": [],
   "source": [
    "#bs_model = BSModel(stan_file = \"stan/one_exponential.stan\", data_file = \"stan/one_exponential.json\")"
   ]
  },
  {
   "cell_type": "code",
   "execution_count": 2,
   "id": "d41263df-acd7-4ef9-aac7-77eeb2bd7a07",
   "metadata": {},
   "outputs": [],
   "source": [
    "def model():\n",
    "    x = numpyro.sample(\"x\", dist.Exponential(30.0))"
   ]
  },
  {
   "cell_type": "code",
   "execution_count": 3,
   "id": "fb0bc3f1-eac6-4b8d-bd79-e0e458d6db36",
   "metadata": {
    "scrolled": true
   },
   "outputs": [],
   "source": [
    "key = jax.random.PRNGKey(seed = 0)\n",
    "param_info, potential, postprocess, _ = initialize_model(key, model, dynamic_args = True)"
   ]
  },
  {
   "cell_type": "code",
   "execution_count": 4,
   "id": "42c51b83-b72f-4bc0-92ca-802b54a1cc7b",
   "metadata": {},
   "outputs": [],
   "source": [
    "rng = np.random.default_rng(204)\n",
    "theta0 = np.zeros(1) # rng.normal(size = 1)\n",
    "rho = rng.normal(size = 1)\n",
    "rho /= np.linalg.norm(rho)"
   ]
  },
  {
   "cell_type": "code",
   "execution_count": 6,
   "id": "51c866bc-4ccd-4687-bc9c-5eb7e5dce214",
   "metadata": {},
   "outputs": [
    {
     "data": {
      "text/plain": [
       "(-26.598802618337846, array([-29.]))"
      ]
     },
     "execution_count": 6,
     "metadata": {},
     "output_type": "execute_result"
    }
   ],
   "source": [
    "bs_model.log_density_gradient(theta0, propto=False)"
   ]
  },
  {
   "cell_type": "code",
   "execution_count": 5,
   "id": "54665078-2847-488a-a45e-ba7d8708a191",
   "metadata": {},
   "outputs": [],
   "source": [
    "def logdensity(theta):\n",
    "    return -potential()(theta)\n",
    "def gradient(theta):\n",
    "    return jax.grad(logdensity)(theta)\n",
    "theta_init = param_info.z\n",
    "_, unflatten = ravel_pytree(theta_init)"
   ]
  },
  {
   "cell_type": "code",
   "execution_count": 6,
   "id": "b22a0776-7bae-4ece-bdf4-46aa0afc6089",
   "metadata": {},
   "outputs": [
    {
     "data": {
      "text/plain": [
       "(Array(-26.59880262, dtype=float64), {'x': Array(-29., dtype=float64)})"
      ]
     },
     "execution_count": 6,
     "metadata": {},
     "output_type": "execute_result"
    }
   ],
   "source": [
    "logdensity(unflatten(theta0)), gradient(unflatten(theta0))"
   ]
  },
  {
   "cell_type": "code",
   "execution_count": 7,
   "id": "7ff8bb32-b7b4-40ce-bf0c-e73086eabebc",
   "metadata": {},
   "outputs": [],
   "source": [
    "klhr = KLHR(bs_model, theta = theta0)"
   ]
  },
  {
   "cell_type": "code",
   "execution_count": 8,
   "id": "df1c96e0-fd08-4de1-969a-2bf640027739",
   "metadata": {},
   "outputs": [],
   "source": [
    "eta = np.array([0.0, 1.0])"
   ]
  },
  {
   "cell_type": "code",
   "execution_count": 9,
   "id": "3f298f07-5218-41cc-a450-cf83f8e5fb76",
   "metadata": {},
   "outputs": [
    {
     "data": {
      "text/plain": [
       "(1202.3962963053273, array([1980.08488407, 7801.77239206]))"
      ]
     },
     "execution_count": 9,
     "metadata": {},
     "output_type": "execute_result"
    }
   ],
   "source": [
    "klhr._L(eta, rho)"
   ]
  },
  {
   "cell_type": "code",
   "execution_count": 7,
   "id": "28109251-e2cc-4c79-8d2e-0eef1721ca97",
   "metadata": {},
   "outputs": [],
   "source": [
    "x, w = hermgauss(16)\n",
    "xjnp = jnp.asarray(x)\n",
    "wjnp = jnp.asarray(w)"
   ]
  },
  {
   "cell_type": "code",
   "execution_count": 32,
   "id": "75aa6e8e-2413-4e96-ac0b-1fce1171216f",
   "metadata": {},
   "outputs": [],
   "source": [
    "def gausshermite_estimate(x, w, rho, eta):\n",
    "    m, s = eta[0], jnp.exp(eta[1]) + 1e-10\n",
    "    y = jnp.sqrt(2.0) * s * x + m\n",
    "    xi = y * rho + theta0\n",
    "    logp = logdensity(unflatten(xi))\n",
    "    return w * logp "
   ]
  },
  {
   "cell_type": "code",
   "execution_count": 33,
   "id": "87de563d-e502-49da-abd4-fdb9da0789ed",
   "metadata": {},
   "outputs": [],
   "source": [
    "ghe = jax.vmap(gausshermite_estimate, in_axes = (0, 0, None, None))"
   ]
  },
  {
   "cell_type": "code",
   "execution_count": 39,
   "id": "34599c22-f36f-4fa8-963d-e6762174a717",
   "metadata": {},
   "outputs": [],
   "source": [
    "eta = jnp.array([0.0, 1.0])\n",
    "rho = jnp.asarray(rho)\n",
    "def L(eta):\n",
    "    return -(jnp.sum(ghe(xjnp, wjnp, rho, eta)) / jnp.sqrt(jnp.pi) + eta[1])"
   ]
  },
  {
   "cell_type": "code",
   "execution_count": 47,
   "id": "9e2e8a02-a780-4b05-8be0-3bf07d2bd501",
   "metadata": {},
   "outputs": [
    {
     "data": {
      "text/plain": [
       "Array(8916.09447535, dtype=float64)"
      ]
     },
     "execution_count": 47,
     "metadata": {},
     "output_type": "execute_result"
    }
   ],
   "source": [
    "eps = 1e-8\n",
    "etap = jnp.array([0.0, 1.0 + eps])\n",
    "(L(etap)- L(eta)) / eps"
   ]
  },
  {
   "cell_type": "code",
   "execution_count": 46,
   "id": "e5abbcd1-ee3f-49c5-b4a1-7726aa51f824",
   "metadata": {},
   "outputs": [],
   "source": [
    "gradL = jax.grad(L)"
   ]
  },
  {
   "cell_type": "code",
   "execution_count": 42,
   "id": "ccb4a57a-1d12-4dff-ba6c-6d5c3baad212",
   "metadata": {},
   "outputs": [
    {
     "data": {
      "text/plain": [
       "Array([1205.79749369, 8916.09434916], dtype=float64)"
      ]
     },
     "execution_count": 42,
     "metadata": {},
     "output_type": "execute_result"
    }
   ],
   "source": [
    "gradL(eta)"
   ]
  },
  {
   "cell_type": "code",
   "execution_count": 38,
   "id": "639ea7bf-287a-4670-8cd6-37d42a82c596",
   "metadata": {},
   "outputs": [
    {
     "data": {
      "text/plain": [
       "Array([[ 1206.79749369,  8917.09434916],\n",
       "       [ 8917.09434916, 83723.09801715]], dtype=float64)"
      ]
     },
     "execution_count": 38,
     "metadata": {},
     "output_type": "execute_result"
    }
   ],
   "source": [
    "hessL = jax.hessian(L)\n",
    "hessL(eta)"
   ]
  },
  {
   "cell_type": "code",
   "execution_count": null,
   "id": "7ff0486d-09f8-4669-b240-d82f18eae788",
   "metadata": {},
   "outputs": [],
   "source": []
  }
 ],
 "metadata": {
  "kernelspec": {
   "display_name": "Python 3 (ipykernel)",
   "language": "python",
   "name": "python3"
  },
  "language_info": {
   "codemirror_mode": {
    "name": "ipython",
    "version": 3
   },
   "file_extension": ".py",
   "mimetype": "text/x-python",
   "name": "python",
   "nbconvert_exporter": "python",
   "pygments_lexer": "ipython3",
   "version": "3.12.7"
  }
 },
 "nbformat": 4,
 "nbformat_minor": 5
}
