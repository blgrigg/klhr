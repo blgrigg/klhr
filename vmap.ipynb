{
 "cells": [
  {
   "cell_type": "code",
   "execution_count": 1,
   "id": "b03c26c9-0f27-485f-9af0-d2f2f7e7a14d",
   "metadata": {},
   "outputs": [
    {
     "name": "stderr",
     "output_type": "stream",
     "text": [
      "/Users/eroualdes/venvs/py3/lib/python3.12/site-packages/tqdm/auto.py:21: TqdmWarning: IProgress not found. Please update jupyter and ipywidgets. See https://ipywidgets.readthedocs.io/en/stable/user_install.html\n",
      "  from .autonotebook import tqdm as notebook_tqdm\n"
     ]
    }
   ],
   "source": [
    "import jax\n",
    "from jax.flatten_util import ravel_pytree\n",
    "import jax.numpy as jnp\n",
    "import numpy as np\n",
    "from numpy.polynomial.hermite import hermgauss\n",
    "import numpyro\n",
    "import numpyro.distributions as dist\n",
    "from numpyro.infer.util import initialize_model\n",
    "\n",
    "from pathlib import Path\n",
    "from scipy.stats import norm\n",
    "from scipy.optimize import minimize\n",
    "\n",
    "from bsmodel import BSModel\n",
    "import bridgestan as bs\n",
    "from klhr import KLHR\n",
    "from klhr_sinh import KLHRSINH\n",
    "\n",
    "jax.config.update('jax_enable_x64', True)"
   ]
  },
  {
   "cell_type": "code",
   "execution_count": 2,
   "id": "d0e2cbab-d5af-4dc0-9fc2-0fb4ac6c67ca",
   "metadata": {},
   "outputs": [],
   "source": [
    "bs.set_bridgestan_path(Path.home() / \"bridgestan\")"
   ]
  },
  {
   "cell_type": "code",
   "execution_count": 3,
   "id": "addb80e0-9a45-47f5-a183-f69bd3f921b9",
   "metadata": {},
   "outputs": [],
   "source": [
    "bs_model = BSModel(stan_file = \"stan/one_exponential.stan\", data_file = \"stan/one_exponential.json\")"
   ]
  },
  {
   "cell_type": "code",
   "execution_count": 2,
   "id": "d41263df-acd7-4ef9-aac7-77eeb2bd7a07",
   "metadata": {},
   "outputs": [],
   "source": [
    "def model():\n",
    "    x = numpyro.sample(\"x\", dist.Exponential(30.0))\n",
    "\n",
    "def earnings():\n",
    "    s = numpyro.sample(\"s\", dist.Exponential(0.01))\n",
    "    b0 = numpyro.sample(\"b0\", dist.StudentT(5.0, 0.0, s))\n",
    "    b1 = numpyro.sample(\"b1\", dist.StudentT(5.0, 0.0, s))\n",
    "    sigma = numpyro.sample(\"sigma\", dist.Exponential(0.1))"
   ]
  },
  {
   "cell_type": "code",
   "execution_count": 3,
   "id": "fb0bc3f1-eac6-4b8d-bd79-e0e458d6db36",
   "metadata": {
    "scrolled": true
   },
   "outputs": [],
   "source": [
    "key = jax.random.PRNGKey(seed = 0)\n",
    "param_info, potential, postprocess, _ = initialize_model(key, model, dynamic_args = True)"
   ]
  },
  {
   "cell_type": "code",
   "execution_count": 4,
   "id": "42c51b83-b72f-4bc0-92ca-802b54a1cc7b",
   "metadata": {},
   "outputs": [],
   "source": [
    "rng = np.random.default_rng(204)\n",
    "theta0 = rng.normal(size = 1)\n",
    "rho = rng.normal(size = 1)\n",
    "rho /= np.linalg.norm(rho)"
   ]
  },
  {
   "cell_type": "code",
   "execution_count": 5,
   "id": "51c866bc-4ccd-4687-bc9c-5eb7e5dce214",
   "metadata": {},
   "outputs": [
    {
     "data": {
      "text/plain": [
       "(-72.45078145775592, array([-75.79188037]))"
      ]
     },
     "execution_count": 5,
     "metadata": {},
     "output_type": "execute_result"
    }
   ],
   "source": [
    "bs_model.log_density_gradient(theta0, propto=False)"
   ]
  },
  {
   "cell_type": "code",
   "execution_count": 5,
   "id": "54665078-2847-488a-a45e-ba7d8708a191",
   "metadata": {},
   "outputs": [],
   "source": [
    "def logdensity(theta):\n",
    "    return -potential()(theta)\n",
    "def gradient(theta):\n",
    "    return jax.grad(logdensity)(theta)\n",
    "theta_init = param_info.z\n",
    "_, unflatten = ravel_pytree(theta_init)"
   ]
  },
  {
   "cell_type": "code",
   "execution_count": 6,
   "id": "b22a0776-7bae-4ece-bdf4-46aa0afc6089",
   "metadata": {},
   "outputs": [
    {
     "data": {
      "text/plain": [
       "(Array(-72.45078146, dtype=float64), {'x': Array(-75.79188037, dtype=float64)})"
      ]
     },
     "execution_count": 6,
     "metadata": {},
     "output_type": "execute_result"
    }
   ],
   "source": [
    "logdensity(unflatten(theta0)), gradient(unflatten(theta0))"
   ]
  },
  {
   "cell_type": "code",
   "execution_count": 6,
   "id": "7ff8bb32-b7b4-40ce-bf0c-e73086eabebc",
   "metadata": {},
   "outputs": [],
   "source": [
    "klhr = KLHR(bs_model, theta = theta0)"
   ]
  },
  {
   "cell_type": "code",
   "execution_count": 7,
   "id": "df1c96e0-fd08-4de1-969a-2bf640027739",
   "metadata": {},
   "outputs": [],
   "source": [
    "eta = np.array([0.0, 1.0])"
   ]
  },
  {
   "cell_type": "code",
   "execution_count": 8,
   "id": "3f298f07-5218-41cc-a450-cf83f8e5fb76",
   "metadata": {},
   "outputs": [
    {
     "data": {
      "text/plain": [
       "(np.float64(3083.7338598747006), array([ 3088.07495878, 22824.34808386]))"
      ]
     },
     "execution_count": 8,
     "metadata": {},
     "output_type": "execute_result"
    }
   ],
   "source": [
    "klhr._L(eta, rho)"
   ]
  },
  {
   "cell_type": "code",
   "execution_count": 8,
   "id": "28109251-e2cc-4c79-8d2e-0eef1721ca97",
   "metadata": {},
   "outputs": [],
   "source": [
    "x, w = hermgauss(16)\n",
    "xjnp = jnp.asarray(x)\n",
    "wjnp = jnp.asarray(w)"
   ]
  },
  {
   "cell_type": "code",
   "execution_count": 9,
   "id": "75aa6e8e-2413-4e96-ac0b-1fce1171216f",
   "metadata": {},
   "outputs": [],
   "source": [
    "@jax.jit\n",
    "def gausshermite_estimate(x, w, rho, eta):\n",
    "    m, s = eta[0], jnp.exp(eta[1]) + 1e-10\n",
    "    y = jnp.sqrt(2.0) * s * x + m\n",
    "    xi = y * rho + theta0\n",
    "    logp = logdensity(unflatten(xi))\n",
    "    return w * logp "
   ]
  },
  {
   "cell_type": "code",
   "execution_count": 10,
   "id": "87de563d-e502-49da-abd4-fdb9da0789ed",
   "metadata": {},
   "outputs": [],
   "source": [
    "ghe = jax.jit(jax.vmap(gausshermite_estimate, in_axes = (0, 0, None, None)))"
   ]
  },
  {
   "cell_type": "code",
   "execution_count": 11,
   "id": "34599c22-f36f-4fa8-963d-e6762174a717",
   "metadata": {},
   "outputs": [],
   "source": [
    "eta = jnp.array([0.0, 1.0])\n",
    "rho = jnp.asarray(rho)\n",
    "@jax.jit\n",
    "def L(eta, rho):\n",
    "    return -(jnp.sum(ghe(xjnp, wjnp, rho, eta)) / jnp.sqrt(jnp.pi) + eta[1])"
   ]
  },
  {
   "cell_type": "code",
   "execution_count": 12,
   "id": "9e2e8a02-a780-4b05-8be0-3bf07d2bd501",
   "metadata": {},
   "outputs": [
    {
     "data": {
      "text/plain": [
       "Array(3083.73408812, dtype=float64)"
      ]
     },
     "execution_count": 12,
     "metadata": {},
     "output_type": "execute_result"
    }
   ],
   "source": [
    "eps = 1e-8\n",
    "etap = jnp.array([0.0, 1.0 + eps])\n",
    "L(etap, rho)#- L(eta, rho)) / eps"
   ]
  },
  {
   "cell_type": "code",
   "execution_count": 13,
   "id": "e5abbcd1-ee3f-49c5-b4a1-7726aa51f824",
   "metadata": {},
   "outputs": [],
   "source": [
    "gradL = jax.jit(jax.grad(L))"
   ]
  },
  {
   "cell_type": "code",
   "execution_count": 14,
   "id": "ccb4a57a-1d12-4dff-ba6c-6d5c3baad212",
   "metadata": {},
   "outputs": [
    {
     "data": {
      "text/plain": [
       "Array([ 3088.07495878, 22824.34808302], dtype=float64)"
      ]
     },
     "execution_count": 14,
     "metadata": {},
     "output_type": "execute_result"
    }
   ],
   "source": [
    "gradL(eta, rho)"
   ]
  },
  {
   "cell_type": "code",
   "execution_count": 15,
   "id": "49fe7d3d-0c78-4a24-938f-c378d141f28d",
   "metadata": {},
   "outputs": [
    {
     "data": {
      "text/plain": [
       "np.float64(3087.8095907568704)"
      ]
     },
     "execution_count": 15,
     "metadata": {},
     "output_type": "execute_result"
    }
   ],
   "source": [
    "5473 / np.sqrt(np.pi)"
   ]
  },
  {
   "cell_type": "code",
   "execution_count": 38,
   "id": "639ea7bf-287a-4670-8cd6-37d42a82c596",
   "metadata": {},
   "outputs": [
    {
     "data": {
      "text/plain": [
       "Array([[ 1206.79749369,  8917.09434916],\n",
       "       [ 8917.09434916, 83723.09801715]], dtype=float64)"
      ]
     },
     "execution_count": 38,
     "metadata": {},
     "output_type": "execute_result"
    }
   ],
   "source": [
    "hessL = jax.hessian(L)\n",
    "hessL(eta)"
   ]
  },
  {
   "cell_type": "code",
   "execution_count": 4,
   "id": "7ff0486d-09f8-4669-b240-d82f18eae788",
   "metadata": {},
   "outputs": [
    {
     "name": "stdout",
     "output_type": "stream",
     "text": [
      "Optimization terminated successfully.\n",
      "         Current function value: -0.007898\n",
      "         Iterations: 4\n",
      "         Function evaluations: 5\n",
      "         Gradient evaluations: 5\n",
      "         Hessian evaluations: 5\n",
      "[ 1.14386048 -2.        ] 0.00024682719389046426\n"
     ]
    }
   ],
   "source": [
    "from scipy.optimize import minimize\n",
    "import numpy as np\n",
    "\n",
    "def f(x):\n",
    "    # objective\n",
    "    return (x[0]-1)**2 + (x[1]+2)**2 + 0.1*np.sin(3*x[0])\n",
    "\n",
    "def grad(x):\n",
    "    return np.array([\n",
    "        2*(x[0]-1) + 0.3*np.cos(3*x[0]),\n",
    "        2*(x[1]+2),\n",
    "    ])\n",
    "\n",
    "def hess(x):\n",
    "    return np.array([\n",
    "        [2 - 0.9*np.sin(3*x[0]), 0.0],\n",
    "        [0.0, 2.0],\n",
    "    ])\n",
    "\n",
    "x0 = np.array([0.0, 0.0])\n",
    "\n",
    "res = minimize(\n",
    "    f, x0,\n",
    "    method=\"trust-exact\",\n",
    "    jac=grad,\n",
    "    hess=hess,\n",
    "    options={\"gtol\": 1e-2, \"maxiter\": 200, \"disp\": True}\n",
    ")\n",
    "\n",
    "print(res.x, np.linalg.norm(res.jac))"
   ]
  },
  {
   "cell_type": "code",
   "execution_count": 2,
   "id": "03ff1b4b-6f49-4365-beda-5cfe9177047f",
   "metadata": {},
   "outputs": [
    {
     "data": {
      "text/plain": [
       " message: Optimization terminated successfully.\n",
       " success: True\n",
       "  status: 0\n",
       "     fun: -0.007898310268378332\n",
       "       x: [ 1.144e+00 -2.000e+00]\n",
       "     nit: 4\n",
       "     jac: [ 2.468e-04  0.000e+00]\n",
       "    nfev: 5\n",
       "    njev: 5\n",
       "    nhev: 5\n",
       "    hess: [[ 2.257e+00  0.000e+00]\n",
       "           [ 0.000e+00  2.000e+00]]"
      ]
     },
     "execution_count": 2,
     "metadata": {},
     "output_type": "execute_result"
    }
   ],
   "source": [
    "res"
   ]
  },
  {
   "cell_type": "code",
   "execution_count": 13,
   "id": "d58893af-914d-4652-996a-541c005a3c1e",
   "metadata": {},
   "outputs": [
    {
     "data": {
      "text/plain": [
       " message: Optimization terminated successfully.\n",
       " success: True\n",
       "  status: 0\n",
       "     fun: -0.007898323763467961\n",
       "       x: [ 1.144e+00 -2.000e+00]\n",
       "     nit: 5\n",
       "     jac: [ 1.547e-08  0.000e+00]\n",
       "    nfev: 6\n",
       "    njev: 6\n",
       "    nhev: 6\n",
       "    hess: [[ 2.257e+00  0.000e+00]\n",
       "           [ 0.000e+00  2.000e+00]]"
      ]
     },
     "execution_count": 13,
     "metadata": {},
     "output_type": "execute_result"
    }
   ],
   "source": [
    "from scipy.optimize import minimize\n",
    "import numpy as np\n",
    "import jax\n",
    "import jax.numpy as jnp\n",
    "\n",
    "jax.config.update(\"jax_enable_x64\", True)\n",
    "\n",
    "def _fj(x):\n",
    "    # objective\n",
    "    return (x[0]-1)**2 + (x[1]+2)**2 + 0.1*jnp.sin(3*x[0])\n",
    "\n",
    "_grad = jax.grad(_fj)\n",
    "_hess = jax.hessian(_fj)\n",
    "\n",
    "def fj(x):\n",
    "    return _fj(jnp.asarray(x)).astype(np.float64)\n",
    "\n",
    "def grad(x):\n",
    "    return np.asarray(_grad(jnp.asarray(x)))\n",
    "\n",
    "def hess(x):\n",
    "    return np.asarray(_hess(jnp.asarray(x)))\n",
    "\n",
    "x0 = np.array([0.0, 0.0])\n",
    "\n",
    "res = minimize(\n",
    "    fj, x0,\n",
    "    method=\"trust-exact\",\n",
    "    jac=grad,\n",
    "    hess=hess\n",
    ")\n",
    "\n",
    "res"
   ]
  },
  {
   "cell_type": "code",
   "execution_count": 14,
   "id": "1d73d177-b659-490a-a5e5-1aef92f2b826",
   "metadata": {},
   "outputs": [],
   "source": [
    "class T():\n",
    "    def __init__(self):\n",
    "        self._f = self.__f()\n",
    "\n",
    "    def __f(self):\n",
    "        def inner(x):\n",
    "            return 2 * x\n",
    "        return inner"
   ]
  },
  {
   "cell_type": "code",
   "execution_count": 15,
   "id": "ab8fd9d9-0e08-4caf-a3c1-bc212f18b925",
   "metadata": {},
   "outputs": [],
   "source": [
    "t = T()"
   ]
  },
  {
   "cell_type": "code",
   "execution_count": 16,
   "id": "2d2828a6-075a-47cc-8306-b40fb3b46629",
   "metadata": {},
   "outputs": [
    {
     "data": {
      "text/plain": [
       "4"
      ]
     },
     "execution_count": 16,
     "metadata": {},
     "output_type": "execute_result"
    }
   ],
   "source": [
    "t._f(2)"
   ]
  },
  {
   "cell_type": "code",
   "execution_count": 37,
   "id": "7dc570d2-4a34-4af9-8ac2-11aa8676cc44",
   "metadata": {},
   "outputs": [],
   "source": [
    "def f(x):\n",
    "    return logdensity(unflatten(x * rho))\n",
    "g = jax.grad(f)"
   ]
  },
  {
   "cell_type": "code",
   "execution_count": 44,
   "id": "78bda2ec-03e7-416b-a715-7f2a8e3c5917",
   "metadata": {},
   "outputs": [
    {
     "data": {
      "text/plain": [
       "Array([ 2.87863825e-10,  2.33696190e-07,  2.60901605e-05,  8.72183972e-04,\n",
       "        1.19692979e-02,  7.97545366e-02,  2.81287321e-01,  5.15511537e-01,\n",
       "        3.34169062e-01, -2.60768418e-01, -3.03409148e-01, -6.66628221e-02,\n",
       "       -5.30100421e-03, -1.72874676e-04, -1.79308288e-06, -2.36963592e-09],      dtype=float64)"
      ]
     },
     "execution_count": 44,
     "metadata": {},
     "output_type": "execute_result"
    }
   ],
   "source": [
    "def h(x, rho):\n",
    "    return logdensity(unflatten(x * rho))\n",
    "hh = jax.vmap(h, in_axes = (0, None))\n",
    "def L(xjnp):\n",
    "    return jnp.sum(hh(xjnp, rho) * wjnp)\n",
    "g = jax.grad(L)\n",
    "g(xjnp)"
   ]
  },
  {
   "cell_type": "code",
   "execution_count": 18,
   "id": "a6f3b936-0446-4801-aa13-dc7562b79c44",
   "metadata": {},
   "outputs": [
    {
     "data": {
      "text/plain": [
       "array([1, 4, 4, 1, 3, 0, 3, 1, 2, 0])"
      ]
     },
     "execution_count": 18,
     "metadata": {},
     "output_type": "execute_result"
    }
   ],
   "source": [
    "rng.integers(7, size = 10)"
   ]
  },
  {
   "cell_type": "code",
   "execution_count": null,
   "id": "69ad5c7c-3f89-4ab7-a4fc-8b26cffe4e74",
   "metadata": {},
   "outputs": [],
   "source": []
  }
 ],
 "metadata": {
  "kernelspec": {
   "display_name": "Python 3 (ipykernel)",
   "language": "python",
   "name": "python3"
  },
  "language_info": {
   "codemirror_mode": {
    "name": "ipython",
    "version": 3
   },
   "file_extension": ".py",
   "mimetype": "text/x-python",
   "name": "python",
   "nbconvert_exporter": "python",
   "pygments_lexer": "ipython3",
   "version": "3.12.11"
  }
 },
 "nbformat": 4,
 "nbformat_minor": 5
}
